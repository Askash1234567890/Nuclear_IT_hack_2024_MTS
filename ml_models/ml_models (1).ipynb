{
  "nbformat": 4,
  "nbformat_minor": 0,
  "metadata": {
    "colab": {
      "provenance": []
    },
    "kernelspec": {
      "name": "python3",
      "display_name": "Python 3"
    },
    "language_info": {
      "name": "python"
    }
  },
  "cells": [
    {
      "cell_type": "markdown",
      "source": [
        "Предположим, что у нас есть сразу эмбеддинги в файле words.csv"
      ],
      "metadata": {
        "id": "Ligfn32YTort"
      }
    },
    {
      "cell_type": "code",
      "source": [
        "import matplotlib.pyplot as plt\n",
        "import numpy as np\n",
        "import pandas as pd\n",
        "import seaborn as sns\n",
        "import json\n",
        "\n",
        "from sklearn.cluster import KMeans, kmeans_plusplus\n",
        "from tqdm import tqdm"
      ],
      "metadata": {
        "id": "dpaDaRm1Opma"
      },
      "execution_count": 8,
      "outputs": []
    },
    {
      "cell_type": "code",
      "source": [
        "words = pd.read_csv('words.csv')\n",
        "words = words.set_index('Unnamed: 0')\n",
        "words"
      ],
      "metadata": {
        "colab": {
          "base_uri": "https://localhost:8080/",
          "height": 475
        },
        "id": "wDfxENPMUjXS",
        "outputId": "840b8c3b-58aa-4709-9c6c-f843819ebf41"
      },
      "execution_count": 34,
      "outputs": [
        {
          "output_type": "execute_result",
          "data": {
            "text/plain": [
              "                       0         1         2         3         4         5  \\\n",
              "Unnamed: 0                                                                   \n",
              "удовольствие    0.026174  0.037918 -0.025903  0.025854 -0.082688 -0.019163   \n",
              "интерес         0.005865  0.035545 -0.048719  0.049162 -0.089950  0.039788   \n",
              "удовлетворение -0.014962  0.028453 -0.044035  0.007704 -0.119207  0.031895   \n",
              "признание      -0.021111  0.022839 -0.037340 -0.003636 -0.123124  0.064397   \n",
              "возможность     0.002700  0.096520  0.004013 -0.003704 -0.048581  0.023773   \n",
              "...                  ...       ...       ...       ...       ...       ...   \n",
              "обучение       -0.001817  0.058661 -0.030851  0.054416 -0.049466  0.047364   \n",
              "путешествие     0.060054  0.074989  0.007691  0.026440 -0.078679 -0.021105   \n",
              "эксперимент     0.018112  0.081045 -0.051732  0.003911 -0.075784  0.082712   \n",
              "творчество      0.044670  0.093995 -0.031966  0.026794 -0.095434 -0.010533   \n",
              "счастие         0.045973  0.081710 -0.087362  0.037576 -0.062313  0.050054   \n",
              "\n",
              "                       6         7         8         9  ...       374  \\\n",
              "Unnamed: 0                                              ...             \n",
              "удовольствие    0.165963  0.027660  0.012059 -0.013564  ... -0.021249   \n",
              "интерес         0.125447  0.098759  0.087505 -0.025387  ...  0.016641   \n",
              "удовлетворение  0.155695  0.060122 -0.015981 -0.012629  ... -0.019666   \n",
              "признание       0.217956  0.038475  0.013418 -0.052965  ... -0.042848   \n",
              "возможность     0.176784  0.086606 -0.025916 -0.077367  ...  0.009639   \n",
              "...                  ...       ...       ...       ...  ...       ...   \n",
              "обучение        0.124756  0.129233  0.003721 -0.092033  ... -0.013953   \n",
              "путешествие     0.138764  0.084017  0.039457 -0.059401  ... -0.035963   \n",
              "эксперимент     0.151356  0.096624  0.009833 -0.021309  ... -0.012283   \n",
              "творчество      0.144533  0.063102 -0.023618  0.017389  ... -0.004289   \n",
              "счастие         0.150443  0.133299  0.055953 -0.044512  ... -0.028131   \n",
              "\n",
              "                     375       376       377       378       379       380  \\\n",
              "Unnamed: 0                                                                   \n",
              "удовольствие    0.077424  0.048163 -0.010788 -0.029331 -0.007624 -0.016468   \n",
              "интерес         0.018871  0.081901 -0.043197 -0.037455  0.040578  0.048341   \n",
              "удовлетворение  0.076287  0.030888 -0.020628 -0.049212  0.008329 -0.022519   \n",
              "признание       0.060673  0.029276  0.019155 -0.106798  0.000821 -0.005561   \n",
              "возможность     0.072470  0.019286 -0.032288 -0.067272 -0.042420 -0.018439   \n",
              "...                  ...       ...       ...       ...       ...       ...   \n",
              "обучение        0.106578  0.083407  0.027854 -0.005021  0.039695 -0.048903   \n",
              "путешествие     0.081803  0.074716 -0.010437 -0.018786 -0.001609  0.140868   \n",
              "эксперимент     0.056659  0.084739 -0.003070 -0.060174  0.005916 -0.003407   \n",
              "творчество      0.083652  0.058738  0.005617 -0.065409 -0.011254  0.014617   \n",
              "счастие         0.075269  0.091336  0.058704 -0.026747  0.029604 -0.003481   \n",
              "\n",
              "                     381       382       383  \n",
              "Unnamed: 0                                    \n",
              "удовольствие    0.046724 -0.015729 -0.015422  \n",
              "интерес        -0.053629  0.044542  0.014680  \n",
              "удовлетворение  0.040449 -0.019890 -0.009755  \n",
              "признание      -0.002290  0.022968 -0.079636  \n",
              "возможность     0.070175 -0.008629  0.016010  \n",
              "...                  ...       ...       ...  \n",
              "обучение       -0.025230 -0.021118 -0.094945  \n",
              "путешествие     0.035612 -0.010439  0.008144  \n",
              "эксперимент     0.028288  0.015651  0.033129  \n",
              "творчество      0.015846  0.045834 -0.049430  \n",
              "счастие        -0.010494  0.028871 -0.057687  \n",
              "\n",
              "[106 rows x 384 columns]"
            ],
            "text/html": [
              "\n",
              "  <div id=\"df-9599924c-af10-422f-b977-cdb0db43bd17\" class=\"colab-df-container\">\n",
              "    <div>\n",
              "<style scoped>\n",
              "    .dataframe tbody tr th:only-of-type {\n",
              "        vertical-align: middle;\n",
              "    }\n",
              "\n",
              "    .dataframe tbody tr th {\n",
              "        vertical-align: top;\n",
              "    }\n",
              "\n",
              "    .dataframe thead th {\n",
              "        text-align: right;\n",
              "    }\n",
              "</style>\n",
              "<table border=\"1\" class=\"dataframe\">\n",
              "  <thead>\n",
              "    <tr style=\"text-align: right;\">\n",
              "      <th></th>\n",
              "      <th>0</th>\n",
              "      <th>1</th>\n",
              "      <th>2</th>\n",
              "      <th>3</th>\n",
              "      <th>4</th>\n",
              "      <th>5</th>\n",
              "      <th>6</th>\n",
              "      <th>7</th>\n",
              "      <th>8</th>\n",
              "      <th>9</th>\n",
              "      <th>...</th>\n",
              "      <th>374</th>\n",
              "      <th>375</th>\n",
              "      <th>376</th>\n",
              "      <th>377</th>\n",
              "      <th>378</th>\n",
              "      <th>379</th>\n",
              "      <th>380</th>\n",
              "      <th>381</th>\n",
              "      <th>382</th>\n",
              "      <th>383</th>\n",
              "    </tr>\n",
              "    <tr>\n",
              "      <th>Unnamed: 0</th>\n",
              "      <th></th>\n",
              "      <th></th>\n",
              "      <th></th>\n",
              "      <th></th>\n",
              "      <th></th>\n",
              "      <th></th>\n",
              "      <th></th>\n",
              "      <th></th>\n",
              "      <th></th>\n",
              "      <th></th>\n",
              "      <th></th>\n",
              "      <th></th>\n",
              "      <th></th>\n",
              "      <th></th>\n",
              "      <th></th>\n",
              "      <th></th>\n",
              "      <th></th>\n",
              "      <th></th>\n",
              "      <th></th>\n",
              "      <th></th>\n",
              "      <th></th>\n",
              "    </tr>\n",
              "  </thead>\n",
              "  <tbody>\n",
              "    <tr>\n",
              "      <th>удовольствие</th>\n",
              "      <td>0.026174</td>\n",
              "      <td>0.037918</td>\n",
              "      <td>-0.025903</td>\n",
              "      <td>0.025854</td>\n",
              "      <td>-0.082688</td>\n",
              "      <td>-0.019163</td>\n",
              "      <td>0.165963</td>\n",
              "      <td>0.027660</td>\n",
              "      <td>0.012059</td>\n",
              "      <td>-0.013564</td>\n",
              "      <td>...</td>\n",
              "      <td>-0.021249</td>\n",
              "      <td>0.077424</td>\n",
              "      <td>0.048163</td>\n",
              "      <td>-0.010788</td>\n",
              "      <td>-0.029331</td>\n",
              "      <td>-0.007624</td>\n",
              "      <td>-0.016468</td>\n",
              "      <td>0.046724</td>\n",
              "      <td>-0.015729</td>\n",
              "      <td>-0.015422</td>\n",
              "    </tr>\n",
              "    <tr>\n",
              "      <th>интерес</th>\n",
              "      <td>0.005865</td>\n",
              "      <td>0.035545</td>\n",
              "      <td>-0.048719</td>\n",
              "      <td>0.049162</td>\n",
              "      <td>-0.089950</td>\n",
              "      <td>0.039788</td>\n",
              "      <td>0.125447</td>\n",
              "      <td>0.098759</td>\n",
              "      <td>0.087505</td>\n",
              "      <td>-0.025387</td>\n",
              "      <td>...</td>\n",
              "      <td>0.016641</td>\n",
              "      <td>0.018871</td>\n",
              "      <td>0.081901</td>\n",
              "      <td>-0.043197</td>\n",
              "      <td>-0.037455</td>\n",
              "      <td>0.040578</td>\n",
              "      <td>0.048341</td>\n",
              "      <td>-0.053629</td>\n",
              "      <td>0.044542</td>\n",
              "      <td>0.014680</td>\n",
              "    </tr>\n",
              "    <tr>\n",
              "      <th>удовлетворение</th>\n",
              "      <td>-0.014962</td>\n",
              "      <td>0.028453</td>\n",
              "      <td>-0.044035</td>\n",
              "      <td>0.007704</td>\n",
              "      <td>-0.119207</td>\n",
              "      <td>0.031895</td>\n",
              "      <td>0.155695</td>\n",
              "      <td>0.060122</td>\n",
              "      <td>-0.015981</td>\n",
              "      <td>-0.012629</td>\n",
              "      <td>...</td>\n",
              "      <td>-0.019666</td>\n",
              "      <td>0.076287</td>\n",
              "      <td>0.030888</td>\n",
              "      <td>-0.020628</td>\n",
              "      <td>-0.049212</td>\n",
              "      <td>0.008329</td>\n",
              "      <td>-0.022519</td>\n",
              "      <td>0.040449</td>\n",
              "      <td>-0.019890</td>\n",
              "      <td>-0.009755</td>\n",
              "    </tr>\n",
              "    <tr>\n",
              "      <th>признание</th>\n",
              "      <td>-0.021111</td>\n",
              "      <td>0.022839</td>\n",
              "      <td>-0.037340</td>\n",
              "      <td>-0.003636</td>\n",
              "      <td>-0.123124</td>\n",
              "      <td>0.064397</td>\n",
              "      <td>0.217956</td>\n",
              "      <td>0.038475</td>\n",
              "      <td>0.013418</td>\n",
              "      <td>-0.052965</td>\n",
              "      <td>...</td>\n",
              "      <td>-0.042848</td>\n",
              "      <td>0.060673</td>\n",
              "      <td>0.029276</td>\n",
              "      <td>0.019155</td>\n",
              "      <td>-0.106798</td>\n",
              "      <td>0.000821</td>\n",
              "      <td>-0.005561</td>\n",
              "      <td>-0.002290</td>\n",
              "      <td>0.022968</td>\n",
              "      <td>-0.079636</td>\n",
              "    </tr>\n",
              "    <tr>\n",
              "      <th>возможность</th>\n",
              "      <td>0.002700</td>\n",
              "      <td>0.096520</td>\n",
              "      <td>0.004013</td>\n",
              "      <td>-0.003704</td>\n",
              "      <td>-0.048581</td>\n",
              "      <td>0.023773</td>\n",
              "      <td>0.176784</td>\n",
              "      <td>0.086606</td>\n",
              "      <td>-0.025916</td>\n",
              "      <td>-0.077367</td>\n",
              "      <td>...</td>\n",
              "      <td>0.009639</td>\n",
              "      <td>0.072470</td>\n",
              "      <td>0.019286</td>\n",
              "      <td>-0.032288</td>\n",
              "      <td>-0.067272</td>\n",
              "      <td>-0.042420</td>\n",
              "      <td>-0.018439</td>\n",
              "      <td>0.070175</td>\n",
              "      <td>-0.008629</td>\n",
              "      <td>0.016010</td>\n",
              "    </tr>\n",
              "    <tr>\n",
              "      <th>...</th>\n",
              "      <td>...</td>\n",
              "      <td>...</td>\n",
              "      <td>...</td>\n",
              "      <td>...</td>\n",
              "      <td>...</td>\n",
              "      <td>...</td>\n",
              "      <td>...</td>\n",
              "      <td>...</td>\n",
              "      <td>...</td>\n",
              "      <td>...</td>\n",
              "      <td>...</td>\n",
              "      <td>...</td>\n",
              "      <td>...</td>\n",
              "      <td>...</td>\n",
              "      <td>...</td>\n",
              "      <td>...</td>\n",
              "      <td>...</td>\n",
              "      <td>...</td>\n",
              "      <td>...</td>\n",
              "      <td>...</td>\n",
              "      <td>...</td>\n",
              "    </tr>\n",
              "    <tr>\n",
              "      <th>обучение</th>\n",
              "      <td>-0.001817</td>\n",
              "      <td>0.058661</td>\n",
              "      <td>-0.030851</td>\n",
              "      <td>0.054416</td>\n",
              "      <td>-0.049466</td>\n",
              "      <td>0.047364</td>\n",
              "      <td>0.124756</td>\n",
              "      <td>0.129233</td>\n",
              "      <td>0.003721</td>\n",
              "      <td>-0.092033</td>\n",
              "      <td>...</td>\n",
              "      <td>-0.013953</td>\n",
              "      <td>0.106578</td>\n",
              "      <td>0.083407</td>\n",
              "      <td>0.027854</td>\n",
              "      <td>-0.005021</td>\n",
              "      <td>0.039695</td>\n",
              "      <td>-0.048903</td>\n",
              "      <td>-0.025230</td>\n",
              "      <td>-0.021118</td>\n",
              "      <td>-0.094945</td>\n",
              "    </tr>\n",
              "    <tr>\n",
              "      <th>путешествие</th>\n",
              "      <td>0.060054</td>\n",
              "      <td>0.074989</td>\n",
              "      <td>0.007691</td>\n",
              "      <td>0.026440</td>\n",
              "      <td>-0.078679</td>\n",
              "      <td>-0.021105</td>\n",
              "      <td>0.138764</td>\n",
              "      <td>0.084017</td>\n",
              "      <td>0.039457</td>\n",
              "      <td>-0.059401</td>\n",
              "      <td>...</td>\n",
              "      <td>-0.035963</td>\n",
              "      <td>0.081803</td>\n",
              "      <td>0.074716</td>\n",
              "      <td>-0.010437</td>\n",
              "      <td>-0.018786</td>\n",
              "      <td>-0.001609</td>\n",
              "      <td>0.140868</td>\n",
              "      <td>0.035612</td>\n",
              "      <td>-0.010439</td>\n",
              "      <td>0.008144</td>\n",
              "    </tr>\n",
              "    <tr>\n",
              "      <th>эксперимент</th>\n",
              "      <td>0.018112</td>\n",
              "      <td>0.081045</td>\n",
              "      <td>-0.051732</td>\n",
              "      <td>0.003911</td>\n",
              "      <td>-0.075784</td>\n",
              "      <td>0.082712</td>\n",
              "      <td>0.151356</td>\n",
              "      <td>0.096624</td>\n",
              "      <td>0.009833</td>\n",
              "      <td>-0.021309</td>\n",
              "      <td>...</td>\n",
              "      <td>-0.012283</td>\n",
              "      <td>0.056659</td>\n",
              "      <td>0.084739</td>\n",
              "      <td>-0.003070</td>\n",
              "      <td>-0.060174</td>\n",
              "      <td>0.005916</td>\n",
              "      <td>-0.003407</td>\n",
              "      <td>0.028288</td>\n",
              "      <td>0.015651</td>\n",
              "      <td>0.033129</td>\n",
              "    </tr>\n",
              "    <tr>\n",
              "      <th>творчество</th>\n",
              "      <td>0.044670</td>\n",
              "      <td>0.093995</td>\n",
              "      <td>-0.031966</td>\n",
              "      <td>0.026794</td>\n",
              "      <td>-0.095434</td>\n",
              "      <td>-0.010533</td>\n",
              "      <td>0.144533</td>\n",
              "      <td>0.063102</td>\n",
              "      <td>-0.023618</td>\n",
              "      <td>0.017389</td>\n",
              "      <td>...</td>\n",
              "      <td>-0.004289</td>\n",
              "      <td>0.083652</td>\n",
              "      <td>0.058738</td>\n",
              "      <td>0.005617</td>\n",
              "      <td>-0.065409</td>\n",
              "      <td>-0.011254</td>\n",
              "      <td>0.014617</td>\n",
              "      <td>0.015846</td>\n",
              "      <td>0.045834</td>\n",
              "      <td>-0.049430</td>\n",
              "    </tr>\n",
              "    <tr>\n",
              "      <th>счастие</th>\n",
              "      <td>0.045973</td>\n",
              "      <td>0.081710</td>\n",
              "      <td>-0.087362</td>\n",
              "      <td>0.037576</td>\n",
              "      <td>-0.062313</td>\n",
              "      <td>0.050054</td>\n",
              "      <td>0.150443</td>\n",
              "      <td>0.133299</td>\n",
              "      <td>0.055953</td>\n",
              "      <td>-0.044512</td>\n",
              "      <td>...</td>\n",
              "      <td>-0.028131</td>\n",
              "      <td>0.075269</td>\n",
              "      <td>0.091336</td>\n",
              "      <td>0.058704</td>\n",
              "      <td>-0.026747</td>\n",
              "      <td>0.029604</td>\n",
              "      <td>-0.003481</td>\n",
              "      <td>-0.010494</td>\n",
              "      <td>0.028871</td>\n",
              "      <td>-0.057687</td>\n",
              "    </tr>\n",
              "  </tbody>\n",
              "</table>\n",
              "<p>106 rows × 384 columns</p>\n",
              "</div>\n",
              "    <div class=\"colab-df-buttons\">\n",
              "\n",
              "  <div class=\"colab-df-container\">\n",
              "    <button class=\"colab-df-convert\" onclick=\"convertToInteractive('df-9599924c-af10-422f-b977-cdb0db43bd17')\"\n",
              "            title=\"Convert this dataframe to an interactive table.\"\n",
              "            style=\"display:none;\">\n",
              "\n",
              "  <svg xmlns=\"http://www.w3.org/2000/svg\" height=\"24px\" viewBox=\"0 -960 960 960\">\n",
              "    <path d=\"M120-120v-720h720v720H120Zm60-500h600v-160H180v160Zm220 220h160v-160H400v160Zm0 220h160v-160H400v160ZM180-400h160v-160H180v160Zm440 0h160v-160H620v160ZM180-180h160v-160H180v160Zm440 0h160v-160H620v160Z\"/>\n",
              "  </svg>\n",
              "    </button>\n",
              "\n",
              "  <style>\n",
              "    .colab-df-container {\n",
              "      display:flex;\n",
              "      gap: 12px;\n",
              "    }\n",
              "\n",
              "    .colab-df-convert {\n",
              "      background-color: #E8F0FE;\n",
              "      border: none;\n",
              "      border-radius: 50%;\n",
              "      cursor: pointer;\n",
              "      display: none;\n",
              "      fill: #1967D2;\n",
              "      height: 32px;\n",
              "      padding: 0 0 0 0;\n",
              "      width: 32px;\n",
              "    }\n",
              "\n",
              "    .colab-df-convert:hover {\n",
              "      background-color: #E2EBFA;\n",
              "      box-shadow: 0px 1px 2px rgba(60, 64, 67, 0.3), 0px 1px 3px 1px rgba(60, 64, 67, 0.15);\n",
              "      fill: #174EA6;\n",
              "    }\n",
              "\n",
              "    .colab-df-buttons div {\n",
              "      margin-bottom: 4px;\n",
              "    }\n",
              "\n",
              "    [theme=dark] .colab-df-convert {\n",
              "      background-color: #3B4455;\n",
              "      fill: #D2E3FC;\n",
              "    }\n",
              "\n",
              "    [theme=dark] .colab-df-convert:hover {\n",
              "      background-color: #434B5C;\n",
              "      box-shadow: 0px 1px 3px 1px rgba(0, 0, 0, 0.15);\n",
              "      filter: drop-shadow(0px 1px 2px rgba(0, 0, 0, 0.3));\n",
              "      fill: #FFFFFF;\n",
              "    }\n",
              "  </style>\n",
              "\n",
              "    <script>\n",
              "      const buttonEl =\n",
              "        document.querySelector('#df-9599924c-af10-422f-b977-cdb0db43bd17 button.colab-df-convert');\n",
              "      buttonEl.style.display =\n",
              "        google.colab.kernel.accessAllowed ? 'block' : 'none';\n",
              "\n",
              "      async function convertToInteractive(key) {\n",
              "        const element = document.querySelector('#df-9599924c-af10-422f-b977-cdb0db43bd17');\n",
              "        const dataTable =\n",
              "          await google.colab.kernel.invokeFunction('convertToInteractive',\n",
              "                                                    [key], {});\n",
              "        if (!dataTable) return;\n",
              "\n",
              "        const docLinkHtml = 'Like what you see? Visit the ' +\n",
              "          '<a target=\"_blank\" href=https://colab.research.google.com/notebooks/data_table.ipynb>data table notebook</a>'\n",
              "          + ' to learn more about interactive tables.';\n",
              "        element.innerHTML = '';\n",
              "        dataTable['output_type'] = 'display_data';\n",
              "        await google.colab.output.renderOutput(dataTable, element);\n",
              "        const docLink = document.createElement('div');\n",
              "        docLink.innerHTML = docLinkHtml;\n",
              "        element.appendChild(docLink);\n",
              "      }\n",
              "    </script>\n",
              "  </div>\n",
              "\n",
              "\n",
              "<div id=\"df-88091198-6b39-4d71-870c-4ba15c5bc85b\">\n",
              "  <button class=\"colab-df-quickchart\" onclick=\"quickchart('df-88091198-6b39-4d71-870c-4ba15c5bc85b')\"\n",
              "            title=\"Suggest charts\"\n",
              "            style=\"display:none;\">\n",
              "\n",
              "<svg xmlns=\"http://www.w3.org/2000/svg\" height=\"24px\"viewBox=\"0 0 24 24\"\n",
              "     width=\"24px\">\n",
              "    <g>\n",
              "        <path d=\"M19 3H5c-1.1 0-2 .9-2 2v14c0 1.1.9 2 2 2h14c1.1 0 2-.9 2-2V5c0-1.1-.9-2-2-2zM9 17H7v-7h2v7zm4 0h-2V7h2v10zm4 0h-2v-4h2v4z\"/>\n",
              "    </g>\n",
              "</svg>\n",
              "  </button>\n",
              "\n",
              "<style>\n",
              "  .colab-df-quickchart {\n",
              "      --bg-color: #E8F0FE;\n",
              "      --fill-color: #1967D2;\n",
              "      --hover-bg-color: #E2EBFA;\n",
              "      --hover-fill-color: #174EA6;\n",
              "      --disabled-fill-color: #AAA;\n",
              "      --disabled-bg-color: #DDD;\n",
              "  }\n",
              "\n",
              "  [theme=dark] .colab-df-quickchart {\n",
              "      --bg-color: #3B4455;\n",
              "      --fill-color: #D2E3FC;\n",
              "      --hover-bg-color: #434B5C;\n",
              "      --hover-fill-color: #FFFFFF;\n",
              "      --disabled-bg-color: #3B4455;\n",
              "      --disabled-fill-color: #666;\n",
              "  }\n",
              "\n",
              "  .colab-df-quickchart {\n",
              "    background-color: var(--bg-color);\n",
              "    border: none;\n",
              "    border-radius: 50%;\n",
              "    cursor: pointer;\n",
              "    display: none;\n",
              "    fill: var(--fill-color);\n",
              "    height: 32px;\n",
              "    padding: 0;\n",
              "    width: 32px;\n",
              "  }\n",
              "\n",
              "  .colab-df-quickchart:hover {\n",
              "    background-color: var(--hover-bg-color);\n",
              "    box-shadow: 0 1px 2px rgba(60, 64, 67, 0.3), 0 1px 3px 1px rgba(60, 64, 67, 0.15);\n",
              "    fill: var(--button-hover-fill-color);\n",
              "  }\n",
              "\n",
              "  .colab-df-quickchart-complete:disabled,\n",
              "  .colab-df-quickchart-complete:disabled:hover {\n",
              "    background-color: var(--disabled-bg-color);\n",
              "    fill: var(--disabled-fill-color);\n",
              "    box-shadow: none;\n",
              "  }\n",
              "\n",
              "  .colab-df-spinner {\n",
              "    border: 2px solid var(--fill-color);\n",
              "    border-color: transparent;\n",
              "    border-bottom-color: var(--fill-color);\n",
              "    animation:\n",
              "      spin 1s steps(1) infinite;\n",
              "  }\n",
              "\n",
              "  @keyframes spin {\n",
              "    0% {\n",
              "      border-color: transparent;\n",
              "      border-bottom-color: var(--fill-color);\n",
              "      border-left-color: var(--fill-color);\n",
              "    }\n",
              "    20% {\n",
              "      border-color: transparent;\n",
              "      border-left-color: var(--fill-color);\n",
              "      border-top-color: var(--fill-color);\n",
              "    }\n",
              "    30% {\n",
              "      border-color: transparent;\n",
              "      border-left-color: var(--fill-color);\n",
              "      border-top-color: var(--fill-color);\n",
              "      border-right-color: var(--fill-color);\n",
              "    }\n",
              "    40% {\n",
              "      border-color: transparent;\n",
              "      border-right-color: var(--fill-color);\n",
              "      border-top-color: var(--fill-color);\n",
              "    }\n",
              "    60% {\n",
              "      border-color: transparent;\n",
              "      border-right-color: var(--fill-color);\n",
              "    }\n",
              "    80% {\n",
              "      border-color: transparent;\n",
              "      border-right-color: var(--fill-color);\n",
              "      border-bottom-color: var(--fill-color);\n",
              "    }\n",
              "    90% {\n",
              "      border-color: transparent;\n",
              "      border-bottom-color: var(--fill-color);\n",
              "    }\n",
              "  }\n",
              "</style>\n",
              "\n",
              "  <script>\n",
              "    async function quickchart(key) {\n",
              "      const quickchartButtonEl =\n",
              "        document.querySelector('#' + key + ' button');\n",
              "      quickchartButtonEl.disabled = true;  // To prevent multiple clicks.\n",
              "      quickchartButtonEl.classList.add('colab-df-spinner');\n",
              "      try {\n",
              "        const charts = await google.colab.kernel.invokeFunction(\n",
              "            'suggestCharts', [key], {});\n",
              "      } catch (error) {\n",
              "        console.error('Error during call to suggestCharts:', error);\n",
              "      }\n",
              "      quickchartButtonEl.classList.remove('colab-df-spinner');\n",
              "      quickchartButtonEl.classList.add('colab-df-quickchart-complete');\n",
              "    }\n",
              "    (() => {\n",
              "      let quickchartButtonEl =\n",
              "        document.querySelector('#df-88091198-6b39-4d71-870c-4ba15c5bc85b button');\n",
              "      quickchartButtonEl.style.display =\n",
              "        google.colab.kernel.accessAllowed ? 'block' : 'none';\n",
              "    })();\n",
              "  </script>\n",
              "</div>\n",
              "    </div>\n",
              "  </div>\n"
            ],
            "application/vnd.google.colaboratory.intrinsic+json": {
              "type": "dataframe",
              "variable_name": "words"
            }
          },
          "metadata": {},
          "execution_count": 34
        }
      ]
    },
    {
      "cell_type": "markdown",
      "source": [
        "Кластеризуем с помощью kmeans_plusplus и найдем инерцию, по ней определим количество кластеров"
      ],
      "metadata": {
        "id": "bG-X7WXJU0u4"
      }
    },
    {
      "cell_type": "code",
      "source": [
        "word_vectors = np.array(words)\n",
        "\n",
        "ran = range(1, min(words.shape[1] + 1, 50))\n",
        "inertia_df = pd.DataFrame(data=[], index=ran, columns=['inertia'])\n",
        "effective_clusters = -1\n",
        "for n_clusters in tqdm(ran):\n",
        "    try:\n",
        "        effective_clusters += 1\n",
        "        centers, indices = kmeans_plusplus(np.array(word_vectors), n_clusters=n_clusters, random_state=10)\n",
        "        kmeans = KMeans(n_clusters=n_clusters,  random_state=42)\n",
        "        cluster_labels = kmeans.fit_predict(word_vectors)\n",
        "        inertia_df.loc[n_clusters] = kmeans.inertia_\n",
        "    except:\n",
        "        break\n",
        "inertia_df = inertia_df.iloc[:effective_clusters]"
      ],
      "metadata": {
        "colab": {
          "base_uri": "https://localhost:8080/"
        },
        "id": "ZY2EAwHJUwrp",
        "outputId": "ccfcab69-d623-4815-e1c9-63510b2584ad"
      },
      "execution_count": 35,
      "outputs": [
        {
          "output_type": "stream",
          "name": "stderr",
          "text": [
            "100%|██████████| 49/49 [00:01<00:00, 29.84it/s]\n"
          ]
        }
      ]
    },
    {
      "cell_type": "code",
      "source": [
        "inertia_df.plot()"
      ],
      "metadata": {
        "colab": {
          "base_uri": "https://localhost:8080/",
          "height": 447
        },
        "id": "5N9SLB0BVBcB",
        "outputId": "254aa7a0-4ac9-4bae-818b-7c087bef304a"
      },
      "execution_count": 12,
      "outputs": [
        {
          "output_type": "execute_result",
          "data": {
            "text/plain": [
              "<Axes: >"
            ]
          },
          "metadata": {},
          "execution_count": 12
        },
        {
          "output_type": "display_data",
          "data": {
            "text/plain": [
              "<Figure size 640x480 with 1 Axes>"
            ],
            "image/png": "[encoded data removed]"
          },
          "metadata": {}
        }
      ]
    },
    {
      "cell_type": "markdown",
      "source": [
        "Представим инерцию и ее производную в нормальном виде. По производной тоже были попытки найти количество кластеров, но они оказались неудачными."
      ],
      "metadata": {
        "id": "CLtfhbrFVGP5"
      }
    },
    {
      "cell_type": "code",
      "source": [
        "inertia_arr = np.array(inertia_df).flatten()\n",
        "inertia_derivative = inertia_arr[:-1] - inertia_arr[1:]"
      ],
      "metadata": {
        "id": "-1UrnMisVEF6"
      },
      "execution_count": 13,
      "outputs": []
    },
    {
      "cell_type": "markdown",
      "source": [
        "Реализуем класс GradientDescent"
      ],
      "metadata": {
        "id": "2OSEaHPWVQ7i"
      }
    },
    {
      "cell_type": "code",
      "source": [
        "class GradientDescent(object):\n",
        "    def __init__(self, a=1.0, b=0.0, x0=1.0, l=1e-2):\n",
        "        self.a = a\n",
        "        self.b = b\n",
        "        self.x0 = x0\n",
        "        self.l = l\n",
        "        self.loss = []\n",
        "\n",
        "    def f(self, x, y, a, b, x0):\n",
        "        return 0.5 * pow(y - a * np.exp(-x / x0) - b, 2).sum()\n",
        "\n",
        "    def dfda(self, x, y, a, b, x0):\n",
        "        return ((a * np.exp(-x / x0) + b - y) * np.exp(-x / x0)).sum()\n",
        "\n",
        "    def dfdb(self, x, y, a, b, x0):\n",
        "        return (a * np.exp(-x / x0) + b - y).sum()\n",
        "\n",
        "    def dfdx0(self, x, y, a, b, x0):\n",
        "        return ((a * np.exp(-x / x0) + b - y) * a * np.exp(-x / x0) * x / pow(x0, 2)).sum()\n",
        "\n",
        "    def fit(self, x, y, epochs=1_000):\n",
        "        self.loss.append(self.f(x, y, self.a, self.b, self.x0))\n",
        "        for epoch in tqdm(range(epochs)):\n",
        "            self.a -= self.l * self.dfda(x, y, self.a, self.b, self.x0)\n",
        "            self.b -= self.l * self.dfdb(x, y, self.a, self.b, self.x0)\n",
        "            self.x0 -= self.l* self.dfdx0(x, y, self.a, self.b, self.x0)\n",
        "            self.loss.append(self.f(x, y, self.a, self.b, self.x0))\n",
        "\n",
        "    def get_a_b_x0(self):\n",
        "        return self.a, self.b, self.x0"
      ],
      "metadata": {
        "id": "KsKR318ZVPJU"
      },
      "execution_count": 14,
      "outputs": []
    },
    {
      "cell_type": "markdown",
      "source": [
        "Идея такая. В физике есть радиус Дебая - такое расстояние, при котором взаимодействие уменьшается в $e$ раз. Дебаевский радиус - эффективный размер распространения взаимодействия. Давайте сделаем то же самое с инерцией - дебаевским расстоянием будет количество кластеров, на котором апроксимированная функцией $f(x)$ инерция будет уменьшаться в $e$ раз.\n",
        "\n",
        "Изначально я хотел заменить инерцию на более гладкую $f(x) = a \\cdot e^{-\\frac{x}{x_0}} + b$, где $a, b, x_0$ - настраиваемые параметры - как раз град спуск для них. Но потом подумал, что можно сразу использовать дебаевский формализм к инерции без преобразования.\n",
        "\n",
        "Использование гладкой $f(x) = a \\cdot e^{\\frac{x}{x_0}} + b$ позволяет убрать различные выбросы и зигзаги (например, у производной инерции - там явно выражена негладкость). По факту, количество кластеров можно выбирать как $n = \\lceil x_0 \\rceil + 1$."
      ],
      "metadata": {
        "id": "JD1j1CJDVdwO"
      }
    },
    {
      "cell_type": "code",
      "source": [
        "x, y = np.array(range(inertia_arr.shape[0])), np.array(inertia_arr).flatten()\n",
        "y_norm = y.max()\n",
        "y /= y_norm\n",
        "\n",
        "grad = GradientDescent(a=1.0, b=0.0, x0=1.0, l=1e-2)\n",
        "grad.fit(x, y, epochs=100_000)"
      ],
      "metadata": {
        "colab": {
          "base_uri": "https://localhost:8080/"
        },
        "id": "NvzVGXorVbVr",
        "outputId": "be119371-97ed-46ef-d595-e8e2833860bf"
      },
      "execution_count": 16,
      "outputs": [
        {
          "output_type": "stream",
          "name": "stderr",
          "text": [
            "100%|██████████| 100000/100000 [00:17<00:00, 5576.01it/s]\n"
          ]
        }
      ]
    },
    {
      "cell_type": "code",
      "source": [
        "plt.plot(grad.loss)"
      ],
      "metadata": {
        "colab": {
          "base_uri": "https://localhost:8080/",
          "height": 447
        },
        "id": "Y7Cms50_VzwK",
        "outputId": "ee699684-180f-438a-8a1d-35c4d8c65fe4"
      },
      "execution_count": 17,
      "outputs": [
        {
          "output_type": "execute_result",
          "data": {
            "text/plain": [
              "[<matplotlib.lines.Line2D at 0x79519829aad0>]"
            ]
          },
          "metadata": {},
          "execution_count": 17
        },
        {
          "output_type": "display_data",
          "data": {
            "text/plain": [
              "<Figure size 640x480 with 1 Axes>"
            ],
            "image/png": "[encoded data removed]"
          },
          "metadata": {}
        }
      ]
    },
    {
      "cell_type": "code",
      "source": [
        "a, b, x0 = grad.get_a_b_x0()\n",
        "a, b, x0"
      ],
      "metadata": {
        "colab": {
          "base_uri": "https://localhost:8080/"
        },
        "id": "cl-390LGV0_7",
        "outputId": "18f8fae9-852d-448c-8eab-e6a3de9fd7c8"
      },
      "execution_count": 18,
      "outputs": [
        {
          "output_type": "execute_result",
          "data": {
            "text/plain": [
              "(0.7408963975080299, 0.2933945587180001, 16.983673235679383)"
            ]
          },
          "metadata": {},
          "execution_count": 18
        }
      ]
    },
    {
      "cell_type": "code",
      "source": [
        "ind = np.ceil(x0).astype(int)\n",
        "print(f'Количество кластеров {ind} + 1')"
      ],
      "metadata": {
        "colab": {
          "base_uri": "https://localhost:8080/"
        },
        "id": "YzpYleBQV5u6",
        "outputId": "1e877dac-e3b6-4e9e-caba-659fde429bc3"
      },
      "execution_count": 19,
      "outputs": [
        {
          "output_type": "stream",
          "name": "stdout",
          "text": [
            "Количество кластеров 17 + 1\n"
          ]
        }
      ]
    },
    {
      "cell_type": "code",
      "source": [
        "t = np.linspace(x.min(), x.max(), 1000)\n",
        "y_pred = a * np.exp(-t / x0) + b\n",
        "\n",
        "plt.figure(figsize=(18, 8))\n",
        "plt.title('Зависимость нормированной инерции от количества кластеров')\n",
        "plt.plot(x + 1, y.flatten(), label='Inertia')\n",
        "plt.plot(t + 1, y_pred, label='$a \\cdot e^{-x/x_0} + b$')\n",
        "plt.axhline(y= a / np.e + b, color='r', linestyle='--', linewidth=2, label='$y = \\dfrac{a}{e} + b$')\n",
        "plt.xticks(range(0, inertia_arr[1:].shape[0] + 4, 4))\n",
        "plt.xlabel('Amount_of_clusters')\n",
        "plt.ylabel('Inertia')\n",
        "plt.legend()\n",
        "plt.grid()"
      ],
      "metadata": {
        "colab": {
          "base_uri": "https://localhost:8080/",
          "height": 738
        },
        "id": "x263CQGcWByo",
        "outputId": "b9b157c0-ceb9-4b33-c7b9-14e4288c0356"
      },
      "execution_count": 28,
      "outputs": [
        {
          "output_type": "display_data",
          "data": {
            "text/plain": [
              "<Figure size 1800x800 with 1 Axes>"
            ],
            "image/png": "[encoded data removed]"
          },
          "metadata": {}
        }
      ]
    },
    {
      "cell_type": "markdown",
      "source": [
        "Кластеризуем в соответствии с найденными кластерами"
      ],
      "metadata": {
        "id": "nJFSzewKXAoM"
      }
    },
    {
      "cell_type": "code",
      "source": [
        "n_clusters = ind + 1\n",
        "centers, indices = kmeans_plusplus(np.array(word_vectors), n_clusters=n_clusters, random_state=10)\n",
        "kmeans = KMeans(n_clusters=n_clusters, random_state=42)\n",
        "cluster_labels = kmeans.fit_predict(word_vectors)\n",
        "\n",
        "df = pd.DataFrame(np.array(words.index), columns=['word'])\n",
        "df['cluster'] = cluster_labels"
      ],
      "metadata": {
        "id": "htNqW2fqW8nk"
      },
      "execution_count": 45,
      "outputs": []
    },
    {
      "cell_type": "markdown",
      "source": [
        "Выберем рандомное слово в каждом кластере и посчитаем сколько слов всего в кластере"
      ],
      "metadata": {
        "id": "4YB3hVytXnvL"
      }
    },
    {
      "cell_type": "code",
      "source": [
        "counter = {}\n",
        "for i in range(n_clusters):\n",
        "    w = np.random.choice(df[df['cluster'] == i]['word'])\n",
        "    amount = df[df['cluster'] == i].shape[0]\n",
        "    counter[w] = amount\n",
        "counter"
      ],
      "metadata": {
        "colab": {
          "base_uri": "https://localhost:8080/"
        },
        "id": "gNJqv5APXB6v",
        "outputId": "1de2bdd7-baeb-4158-cd41-8d4255567fe7"
      },
      "execution_count": 48,
      "outputs": [
        {
          "output_type": "execute_result",
          "data": {
            "text/plain": [
              "{'качество': 5,\n",
              " 'доход': 9,\n",
              " 'разнообразие': 4,\n",
              " 'идея': 15,\n",
              " 'карьера': 3,\n",
              " 'социальный статус': 6,\n",
              " 'популярность': 10,\n",
              " 'карьерный рост': 10,\n",
              " 'деньга': 5,\n",
              " 'ответ': 5,\n",
              " 'финансы': 2,\n",
              " 'вознаграждение': 5,\n",
              " 'цель': 6,\n",
              " 'энергия': 4,\n",
              " 'комфорт': 4,\n",
              " 'репутация': 4,\n",
              " 'фидбек': 5,\n",
              " 'мобильность': 4}"
            ]
          },
          "metadata": {},
          "execution_count": 48
        }
      ]
    },
    {
      "cell_type": "markdown",
      "source": [
        "Сохраним этот словарь в формате JSON"
      ],
      "metadata": {
        "id": "Ur3c6oYCXv6A"
      }
    },
    {
      "cell_type": "code",
      "source": [
        "with open('counter_data.json', 'w') as json_file:\n",
        "    json.dump(counter, json_file, indent=4)"
      ],
      "metadata": {
        "id": "aD2QbrZ6Xt3v"
      },
      "execution_count": 49,
      "outputs": []
    },
    {
      "cell_type": "markdown",
      "source": [
        "Визуализируем в **seaborn**"
      ],
      "metadata": {
        "id": "-gDfMYgcX0oJ"
      }
    },
    {
      "cell_type": "code",
      "source": [
        "plt.figure(figsize=(18, 8))\n",
        "ax = sns.histplot(cluster_labels, bins=n_clusters, shrink=0.5, kde=True)\n",
        "\n",
        "bin_edges = ax.patches[0].get_bbox().bounds\n",
        "\n",
        "centers = [patch.get_x() + patch.get_width() / 2 for patch in ax.patches]\n",
        "\n",
        "plt.title('Диаграмма кластеров')\n",
        "plt.xticks(centers, np.arange(n_clusters))\n",
        "plt.yticks(range(0, max(counter.values()) + 1, 2))\n",
        "plt.xlabel('Cluster_number')\n",
        "plt.grid()\n",
        "\n",
        "plt.show()"
      ],
      "metadata": {
        "colab": {
          "base_uri": "https://localhost:8080/",
          "height": 623
        },
        "id": "3TEx_r0yXy-m",
        "outputId": "8a916236-04a1-4d6a-afa6-185a65ddcff2"
      },
      "execution_count": 50,
      "outputs": [
        {
          "output_type": "display_data",
          "data": {
            "text/plain": [
              "<Figure size 1800x800 with 1 Axes>"
            ],
            "image/png": "[encoded data removed]"
          },
          "metadata": {}
        }
      ]
    },
    {
      "cell_type": "markdown",
      "source": [
        "Как итог, у нас есть аналог словаря частотности слов"
      ],
      "metadata": {
        "id": "ttFW3T7JX6OW"
      }
    }
  ]
}